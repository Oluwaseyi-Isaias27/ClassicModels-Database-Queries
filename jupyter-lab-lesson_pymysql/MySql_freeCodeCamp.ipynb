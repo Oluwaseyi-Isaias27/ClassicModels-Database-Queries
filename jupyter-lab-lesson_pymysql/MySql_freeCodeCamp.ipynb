{
 "cells": [
  {
   "cell_type": "code",
   "execution_count": null,
   "id": "207feece-7119-49bf-9405-8a14a43a5cf4",
   "metadata": {},
   "outputs": [],
   "source": [
    "!pip install sqlalchemy PyMySQL --quiet"
   ]
  },
  {
   "cell_type": "code",
   "execution_count": null,
   "id": "81f2ce33-dc87-4679-ae93-40cc3b7a74d4",
   "metadata": {},
   "outputs": [],
   "source": [
    "python.exe -m pip install --upgrade pip"
   ]
  },
  {
   "cell_type": "code",
   "execution_count": null,
   "id": "496795a8-3ad5-43e9-bdac-603fad46dc27",
   "metadata": {},
   "outputs": [],
   "source": [
    "pip install --upgrade pip"
   ]
  },
  {
   "cell_type": "code",
   "execution_count": null,
   "id": "74899ac0-f6dc-4418-a7d6-64c3c5c6730e",
   "metadata": {},
   "outputs": [],
   "source": [
    "from sqlalchemy import create_engine"
   ]
  },
  {
   "cell_type": "code",
   "execution_count": null,
   "id": "7b894526-ae18-484f-84d2-22f6f1af957b",
   "metadata": {},
   "outputs": [],
   "source": [
    "from getpass import getpass"
   ]
  },
  {
   "cell_type": "code",
   "execution_count": null,
   "id": "6f85a1a2-729b-4141-93e6-2ce2fa5129d9",
   "metadata": {},
   "outputs": [],
   "source": [
    "password = getpass()"
   ]
  },
  {
   "cell_type": "code",
   "execution_count": null,
   "id": "1c41f76c-318f-4c70-a2a8-af77fc97e9c5",
   "metadata": {},
   "outputs": [],
   "source": [
    "engine = create_engine('mysql+pymysql://root:{}@localhost:3306/ClassicModels'.format(password))"
   ]
  },
  {
   "cell_type": "code",
   "execution_count": null,
   "id": "e3c8bead-3f28-4f09-b44b-c6ed4cb49e79",
   "metadata": {},
   "outputs": [],
   "source": [
    "with engine.connect() as conn:\n",
    "    result = conn.execute('SELECT officeCode, city, phone FROM offices;')"
   ]
  },
  {
   "cell_type": "code",
   "execution_count": null,
   "id": "8d008435-b844-4bd9-aee8-964f8a23d368",
   "metadata": {},
   "outputs": [],
   "source": [
    "result"
   ]
  },
  {
   "cell_type": "code",
   "execution_count": null,
   "id": "18dc5a8a-0e12-4fe8-95da-73774b0a9108",
   "metadata": {},
   "outputs": [],
   "source": [
    "offices = list(result)"
   ]
  },
  {
   "cell_type": "code",
   "execution_count": null,
   "id": "30c7defd-ea36-40ad-a3f0-5e8506d09786",
   "metadata": {},
   "outputs": [],
   "source": [
    "offices"
   ]
  },
  {
   "cell_type": "code",
   "execution_count": null,
   "id": "0278af6c-bb00-464f-8e4e-53bfbfc9da09",
   "metadata": {},
   "outputs": [],
   "source": [
    "import pandas as pd"
   ]
  },
  {
   "cell_type": "code",
   "execution_count": null,
   "id": "6c2de99d-8ddc-4285-9c00-61970c4d1226",
   "metadata": {},
   "outputs": [],
   "source": [
    "pd.DataFrame(offices, columns=['officeCode', 'city', 'phoneNumber'])"
   ]
  },
  {
   "cell_type": "code",
   "execution_count": null,
   "id": "12a7cbdf-fe28-4ce3-a885-dde33035c70f",
   "metadata": {},
   "outputs": [],
   "source": [
    "!pip install ipython-sql --quiet"
   ]
  },
  {
   "cell_type": "code",
   "execution_count": null,
   "id": "50e36c00-e96e-40c5-be40-d5b43ba071e8",
   "metadata": {},
   "outputs": [],
   "source": [
    "%load_ext sql"
   ]
  },
  {
   "cell_type": "code",
   "execution_count": null,
   "id": "bab2a2cd-e91e-4119-844b-e8af5482118c",
   "metadata": {},
   "outputs": [],
   "source": [
    "from getpass import getpass"
   ]
  },
  {
   "cell_type": "code",
   "execution_count": null,
   "id": "791946a4-602a-40d3-ada9-5a0bb8e874b9",
   "metadata": {},
   "outputs": [],
   "source": [
    "password = getpass()"
   ]
  },
  {
   "cell_type": "code",
   "execution_count": null,
   "id": "c8cdcd49-2710-4ab5-a594-89d500962f35",
   "metadata": {},
   "outputs": [],
   "source": [
    "connection_str = 'mysql+pymysql://root:{}@localhost:3306/ClassicModels'.format(password)"
   ]
  },
  {
   "cell_type": "code",
   "execution_count": null,
   "id": "0b8f57c2-5de4-4ce6-901e-2aca1d610e29",
   "metadata": {},
   "outputs": [],
   "source": [
    "%sql {connection_str}"
   ]
  },
  {
   "cell_type": "code",
   "execution_count": null,
   "id": "5555b664-4f04-4acb-8a0e-33ad32bb078e",
   "metadata": {},
   "outputs": [],
   "source": [
    "%sql SELECT officeCode, city, phone FROM offices;"
   ]
  },
  {
   "cell_type": "code",
   "execution_count": null,
   "id": "a094d739-fde5-4b2b-8275-f16889b8402e",
   "metadata": {},
   "outputs": [],
   "source": [
    "%%sql\n",
    "\n",
    "SELECT YEAR(paymentDate) AS `year`\n",
    "    MONTH(paymentDate) AS `month`,\n",
    "    ROUND(SUM(amount), 2) AS `totalPayments`\n",
    "    FROM payments\n",
    "    GROUP BY `year`, `month`\n",
    "    ORDER BY `year`, `month`;"
   ]
  },
  {
   "cell_type": "markdown",
   "id": "b6f77f2e-8d51-44ec-a558-2e71ca69890e",
   "metadata": {},
   "source": [
    "We can also store results in a variable when using `%sql`"
   ]
  },
  {
   "cell_type": "code",
   "execution_count": null,
   "id": "f7267d12-b06f-4e47-8b4b-09206a9cc2b9",
   "metadata": {},
   "outputs": [],
   "source": [
    "earnings_result = %sql SELECT YEAR(paymentDate) AS `year`, MONTH(paymentDate) AS `month`, ROUND(SUM(amount), 2) AS `totalPayments` FROM payments GROUP BY `year`, `month `ORDER BY `year`, `month`;"
   ]
  },
  {
   "cell_type": "code",
   "execution_count": null,
   "id": "577a4d22-69b8-4e74-a46e-a8a852265a67",
   "metadata": {},
   "outputs": [],
   "source": [
    "earnings_df = pd.DataFrame(earnings_result, columns=earnings_result.field_names)"
   ]
  },
  {
   "cell_type": "code",
   "execution_count": null,
   "id": "f54e53c7-0de6-4479-bfd0-4c4a1341e112",
   "metadata": {},
   "outputs": [],
   "source": [
    "earnings_df.head(10)"
   ]
  },
  {
   "cell_type": "code",
   "execution_count": null,
   "id": "7b3d9c2e-ace7-45b8-9801-42e16667b6e0",
   "metadata": {},
   "outputs": [],
   "source": []
  }
 ],
 "metadata": {
  "kernelspec": {
   "display_name": "Python 3 (ipykernel)",
   "language": "python",
   "name": "python3"
  },
  "language_info": {
   "codemirror_mode": {
    "name": "ipython",
    "version": 3
   },
   "file_extension": ".py",
   "mimetype": "text/x-python",
   "name": "python",
   "nbconvert_exporter": "python",
   "pygments_lexer": "ipython3",
   "version": "3.10.6"
  }
 },
 "nbformat": 4,
 "nbformat_minor": 5
}
